{
 "cells": [
  {
   "cell_type": "markdown",
   "id": "0a877dc8-0bd0-44c8-8186-d2c80efd160e",
   "metadata": {},
   "source": [
    "# WEEK 4 AWP CASE STUDY"
   ]
  },
  {
   "cell_type": "markdown",
   "id": "95073433-80dc-4e77-be35-27c8704aab97",
   "metadata": {},
   "source": [
    "## Sales Analysis Project"
   ]
  },
  {
   "cell_type": "markdown",
   "id": "61fc9cf8-21f3-4c4f-90b0-f408c68e9ba7",
   "metadata": {},
   "source": []
  },
  {
   "cell_type": "markdown",
   "id": "dde46d04-9e52-4f17-b806-dfbfc5c28968",
   "metadata": {},
   "source": [
    "#### Importing the needed libraries for this project"
   ]
  },
  {
   "cell_type": "code",
   "execution_count": 1,
   "id": "6f4523bc-f8ad-4e65-a430-084f13467d66",
   "metadata": {},
   "outputs": [],
   "source": [
    "import numpy as np\n",
    "import pandas as pd"
   ]
  },
  {
   "cell_type": "code",
   "execution_count": null,
   "id": "5fae8dd6-c57f-48f9-bc32-2b04fdfe87fc",
   "metadata": {},
   "outputs": [],
   "source": []
  },
  {
   "cell_type": "markdown",
   "id": "f55cfd29-d48c-4397-a912-a69e3f592ff6",
   "metadata": {},
   "source": [
    "#### Reading the dataset into pandas dataframe"
   ]
  },
  {
   "cell_type": "code",
   "execution_count": 2,
   "id": "4de5b64e-b46b-4f13-b82d-ed93a1a0c44a",
   "metadata": {},
   "outputs": [
    {
     "data": {
      "text/html": [
       "<div>\n",
       "<style scoped>\n",
       "    .dataframe tbody tr th:only-of-type {\n",
       "        vertical-align: middle;\n",
       "    }\n",
       "\n",
       "    .dataframe tbody tr th {\n",
       "        vertical-align: top;\n",
       "    }\n",
       "\n",
       "    .dataframe thead th {\n",
       "        text-align: right;\n",
       "    }\n",
       "</style>\n",
       "<table border=\"1\" class=\"dataframe\">\n",
       "  <thead>\n",
       "    <tr style=\"text-align: right;\">\n",
       "      <th></th>\n",
       "      <th>Date</th>\n",
       "      <th>Region</th>\n",
       "      <th>Category</th>\n",
       "      <th>Sales($)</th>\n",
       "      <th>ProductID</th>\n",
       "    </tr>\n",
       "  </thead>\n",
       "  <tbody>\n",
       "    <tr>\n",
       "      <th>0</th>\n",
       "      <td>01/09/2023</td>\n",
       "      <td>East</td>\n",
       "      <td>Electronics</td>\n",
       "      <td>1200.50</td>\n",
       "      <td>E1234</td>\n",
       "    </tr>\n",
       "    <tr>\n",
       "      <th>1</th>\n",
       "      <td>02/09/2023</td>\n",
       "      <td>West</td>\n",
       "      <td>Apparel</td>\n",
       "      <td>350.75</td>\n",
       "      <td>A4567</td>\n",
       "    </tr>\n",
       "    <tr>\n",
       "      <th>2</th>\n",
       "      <td>03/09/2023</td>\n",
       "      <td>North</td>\n",
       "      <td>Furniture</td>\n",
       "      <td>890.20</td>\n",
       "      <td>F7890</td>\n",
       "    </tr>\n",
       "    <tr>\n",
       "      <th>3</th>\n",
       "      <td>04/09/2023</td>\n",
       "      <td>South</td>\n",
       "      <td>Electronics</td>\n",
       "      <td>550.40</td>\n",
       "      <td>E2345</td>\n",
       "    </tr>\n",
       "    <tr>\n",
       "      <th>4</th>\n",
       "      <td>05/09/2023</td>\n",
       "      <td>East</td>\n",
       "      <td>Appliances</td>\n",
       "      <td>420.60</td>\n",
       "      <td>A6789</td>\n",
       "    </tr>\n",
       "    <tr>\n",
       "      <th>...</th>\n",
       "      <td>...</td>\n",
       "      <td>...</td>\n",
       "      <td>...</td>\n",
       "      <td>...</td>\n",
       "      <td>...</td>\n",
       "    </tr>\n",
       "    <tr>\n",
       "      <th>56</th>\n",
       "      <td>27/10/2023</td>\n",
       "      <td>North</td>\n",
       "      <td>Furniture</td>\n",
       "      <td>870.20</td>\n",
       "      <td>F3457</td>\n",
       "    </tr>\n",
       "    <tr>\n",
       "      <th>57</th>\n",
       "      <td>28/10/2023</td>\n",
       "      <td>South</td>\n",
       "      <td>Electronics</td>\n",
       "      <td>730.40</td>\n",
       "      <td>E4568</td>\n",
       "    </tr>\n",
       "    <tr>\n",
       "      <th>58</th>\n",
       "      <td>29/10/2023</td>\n",
       "      <td>East</td>\n",
       "      <td>Appliances</td>\n",
       "      <td>410.60</td>\n",
       "      <td>A6789</td>\n",
       "    </tr>\n",
       "    <tr>\n",
       "      <th>59</th>\n",
       "      <td>30/10/2023</td>\n",
       "      <td>West</td>\n",
       "      <td>Apparel</td>\n",
       "      <td>320.25</td>\n",
       "      <td>A7891</td>\n",
       "    </tr>\n",
       "    <tr>\n",
       "      <th>60</th>\n",
       "      <td>31/10/2023</td>\n",
       "      <td>West</td>\n",
       "      <td>Apparel</td>\n",
       "      <td>320.25</td>\n",
       "      <td>A789</td>\n",
       "    </tr>\n",
       "  </tbody>\n",
       "</table>\n",
       "<p>61 rows × 5 columns</p>\n",
       "</div>"
      ],
      "text/plain": [
       "          Date Region     Category  Sales($) ProductID\n",
       "0   01/09/2023   East  Electronics   1200.50     E1234\n",
       "1   02/09/2023   West      Apparel    350.75     A4567\n",
       "2   03/09/2023  North    Furniture    890.20     F7890\n",
       "3   04/09/2023  South  Electronics    550.40     E2345\n",
       "4   05/09/2023   East   Appliances    420.60     A6789\n",
       "..         ...    ...          ...       ...       ...\n",
       "56  27/10/2023  North    Furniture    870.20     F3457\n",
       "57  28/10/2023  South  Electronics    730.40     E4568\n",
       "58  29/10/2023   East   Appliances    410.60     A6789\n",
       "59  30/10/2023   West      Apparel    320.25     A7891\n",
       "60  31/10/2023   West      Apparel    320.25      A789\n",
       "\n",
       "[61 rows x 5 columns]"
      ]
     },
     "execution_count": 2,
     "metadata": {},
     "output_type": "execute_result"
    }
   ],
   "source": [
    "sales = pd.read_csv('Sales.csv')\n",
    "sales"
   ]
  },
  {
   "cell_type": "code",
   "execution_count": null,
   "id": "ebf2e64e-fc63-431f-a6ff-b515208016e2",
   "metadata": {},
   "outputs": [],
   "source": []
  },
  {
   "cell_type": "markdown",
   "id": "1033c4a0-e1e2-4c36-96fb-0ab5b140904b",
   "metadata": {},
   "source": [
    "#### Coverting the 'Date' column into a datetime data type"
   ]
  },
  {
   "cell_type": "code",
   "execution_count": 12,
   "id": "8e3b959b-17bc-477f-a2c4-462dbd7b2be0",
   "metadata": {},
   "outputs": [],
   "source": [
    "''' with the help of the to_datetime method we convert the date column and assign it to itself to make the changes\n",
    "   a permanent one. In doing this we specify how our current date is formatted.\n",
    "'''\n",
    "\n",
    "sales['Date'] = pd.to_datetime(sales['Date'], format = '%d/%m/%Y')"
   ]
  },
  {
   "cell_type": "code",
   "execution_count": 14,
   "id": "37ba99d5-66f8-4ac2-a99a-cecc9b5a54c8",
   "metadata": {},
   "outputs": [
    {
     "name": "stdout",
     "output_type": "stream",
     "text": [
      "<class 'pandas.core.frame.DataFrame'>\n",
      "RangeIndex: 61 entries, 0 to 60\n",
      "Data columns (total 5 columns):\n",
      " #   Column     Non-Null Count  Dtype         \n",
      "---  ------     --------------  -----         \n",
      " 0   Date       61 non-null     datetime64[ns]\n",
      " 1   Region     61 non-null     object        \n",
      " 2   Category   61 non-null     object        \n",
      " 3   Sales($)   61 non-null     float64       \n",
      " 4   ProductID  61 non-null     object        \n",
      "dtypes: datetime64[ns](1), float64(1), object(3)\n",
      "memory usage: 2.5+ KB\n"
     ]
    }
   ],
   "source": [
    "sales.info()"
   ]
  },
  {
   "cell_type": "code",
   "execution_count": null,
   "id": "2738dcbb-66dd-4503-8692-5a4fded10296",
   "metadata": {},
   "outputs": [],
   "source": []
  },
  {
   "cell_type": "markdown",
   "id": "d2da0a08-ec03-4578-b30b-01a2d8559cef",
   "metadata": {},
   "source": [
    "#### Adding a 'month' column from the 'Date' column"
   ]
  },
  {
   "cell_type": "code",
   "execution_count": 19,
   "id": "4d3db821-3e40-4b8e-874a-7a5e31248480",
   "metadata": {},
   "outputs": [
    {
     "data": {
      "text/html": [
       "<div>\n",
       "<style scoped>\n",
       "    .dataframe tbody tr th:only-of-type {\n",
       "        vertical-align: middle;\n",
       "    }\n",
       "\n",
       "    .dataframe tbody tr th {\n",
       "        vertical-align: top;\n",
       "    }\n",
       "\n",
       "    .dataframe thead th {\n",
       "        text-align: right;\n",
       "    }\n",
       "</style>\n",
       "<table border=\"1\" class=\"dataframe\">\n",
       "  <thead>\n",
       "    <tr style=\"text-align: right;\">\n",
       "      <th></th>\n",
       "      <th>Date</th>\n",
       "      <th>Region</th>\n",
       "      <th>Category</th>\n",
       "      <th>Sales($)</th>\n",
       "      <th>ProductID</th>\n",
       "      <th>Month</th>\n",
       "    </tr>\n",
       "  </thead>\n",
       "  <tbody>\n",
       "    <tr>\n",
       "      <th>0</th>\n",
       "      <td>2023-09-01</td>\n",
       "      <td>East</td>\n",
       "      <td>Electronics</td>\n",
       "      <td>1200.50</td>\n",
       "      <td>E1234</td>\n",
       "      <td>September</td>\n",
       "    </tr>\n",
       "    <tr>\n",
       "      <th>1</th>\n",
       "      <td>2023-09-02</td>\n",
       "      <td>West</td>\n",
       "      <td>Apparel</td>\n",
       "      <td>350.75</td>\n",
       "      <td>A4567</td>\n",
       "      <td>September</td>\n",
       "    </tr>\n",
       "    <tr>\n",
       "      <th>2</th>\n",
       "      <td>2023-09-03</td>\n",
       "      <td>North</td>\n",
       "      <td>Furniture</td>\n",
       "      <td>890.20</td>\n",
       "      <td>F7890</td>\n",
       "      <td>September</td>\n",
       "    </tr>\n",
       "    <tr>\n",
       "      <th>3</th>\n",
       "      <td>2023-09-04</td>\n",
       "      <td>South</td>\n",
       "      <td>Electronics</td>\n",
       "      <td>550.40</td>\n",
       "      <td>E2345</td>\n",
       "      <td>September</td>\n",
       "    </tr>\n",
       "    <tr>\n",
       "      <th>4</th>\n",
       "      <td>2023-09-05</td>\n",
       "      <td>East</td>\n",
       "      <td>Appliances</td>\n",
       "      <td>420.60</td>\n",
       "      <td>A6789</td>\n",
       "      <td>September</td>\n",
       "    </tr>\n",
       "    <tr>\n",
       "      <th>...</th>\n",
       "      <td>...</td>\n",
       "      <td>...</td>\n",
       "      <td>...</td>\n",
       "      <td>...</td>\n",
       "      <td>...</td>\n",
       "      <td>...</td>\n",
       "    </tr>\n",
       "    <tr>\n",
       "      <th>56</th>\n",
       "      <td>2023-10-27</td>\n",
       "      <td>North</td>\n",
       "      <td>Furniture</td>\n",
       "      <td>870.20</td>\n",
       "      <td>F3457</td>\n",
       "      <td>October</td>\n",
       "    </tr>\n",
       "    <tr>\n",
       "      <th>57</th>\n",
       "      <td>2023-10-28</td>\n",
       "      <td>South</td>\n",
       "      <td>Electronics</td>\n",
       "      <td>730.40</td>\n",
       "      <td>E4568</td>\n",
       "      <td>October</td>\n",
       "    </tr>\n",
       "    <tr>\n",
       "      <th>58</th>\n",
       "      <td>2023-10-29</td>\n",
       "      <td>East</td>\n",
       "      <td>Appliances</td>\n",
       "      <td>410.60</td>\n",
       "      <td>A6789</td>\n",
       "      <td>October</td>\n",
       "    </tr>\n",
       "    <tr>\n",
       "      <th>59</th>\n",
       "      <td>2023-10-30</td>\n",
       "      <td>West</td>\n",
       "      <td>Apparel</td>\n",
       "      <td>320.25</td>\n",
       "      <td>A7891</td>\n",
       "      <td>October</td>\n",
       "    </tr>\n",
       "    <tr>\n",
       "      <th>60</th>\n",
       "      <td>2023-10-31</td>\n",
       "      <td>West</td>\n",
       "      <td>Apparel</td>\n",
       "      <td>320.25</td>\n",
       "      <td>A789</td>\n",
       "      <td>October</td>\n",
       "    </tr>\n",
       "  </tbody>\n",
       "</table>\n",
       "<p>61 rows × 6 columns</p>\n",
       "</div>"
      ],
      "text/plain": [
       "         Date Region     Category  Sales($) ProductID      Month\n",
       "0  2023-09-01   East  Electronics   1200.50     E1234  September\n",
       "1  2023-09-02   West      Apparel    350.75     A4567  September\n",
       "2  2023-09-03  North    Furniture    890.20     F7890  September\n",
       "3  2023-09-04  South  Electronics    550.40     E2345  September\n",
       "4  2023-09-05   East   Appliances    420.60     A6789  September\n",
       "..        ...    ...          ...       ...       ...        ...\n",
       "56 2023-10-27  North    Furniture    870.20     F3457    October\n",
       "57 2023-10-28  South  Electronics    730.40     E4568    October\n",
       "58 2023-10-29   East   Appliances    410.60     A6789    October\n",
       "59 2023-10-30   West      Apparel    320.25     A7891    October\n",
       "60 2023-10-31   West      Apparel    320.25      A789    October\n",
       "\n",
       "[61 rows x 6 columns]"
      ]
     },
     "execution_count": 19,
     "metadata": {},
     "output_type": "execute_result"
    }
   ],
   "source": [
    "sales['Month'] = sales['Date'].dt.month_name()\n",
    "sales"
   ]
  },
  {
   "cell_type": "markdown",
   "id": "cc020266-fd28-440e-8cd7-21852fafed21",
   "metadata": {},
   "source": [
    "#### Total sales for each month"
   ]
  },
  {
   "cell_type": "code",
   "execution_count": 23,
   "id": "81bf9e93-a613-4138-a003-b63bfc486d1f",
   "metadata": {},
   "outputs": [
    {
     "data": {
      "text/plain": [
       "Month\n",
       "October      17354.65\n",
       "September    17924.40\n",
       "Name: Sales($), dtype: float64"
      ]
     },
     "execution_count": 23,
     "metadata": {},
     "output_type": "execute_result"
    }
   ],
   "source": [
    "# Using the groupby method we pass in our month column and sum the sales using the sum() function\n",
    "sales.groupby('Month')['Sales($)'].sum()"
   ]
  },
  {
   "cell_type": "code",
   "execution_count": null,
   "id": "206f1c6a-271a-4711-93fa-ef9f4e02fcba",
   "metadata": {},
   "outputs": [],
   "source": []
  },
  {
   "cell_type": "code",
   "execution_count": null,
   "id": "a4301cf9-9e7c-40ce-9305-4a6bea4259f4",
   "metadata": {},
   "outputs": [],
   "source": []
  },
  {
   "cell_type": "markdown",
   "id": "fb7866a0-310f-463d-a07d-3f89a97e182b",
   "metadata": {},
   "source": [
    "#### Average daily sales for each month"
   ]
  },
  {
   "cell_type": "code",
   "execution_count": 26,
   "id": "ef7829c6-6566-4288-b57f-ce69009ec5eb",
   "metadata": {},
   "outputs": [
    {
     "data": {
      "text/plain": [
       "Month\n",
       "October      559.827419\n",
       "September    597.480000\n",
       "Name: Sales($), dtype: float64"
      ]
     },
     "execution_count": 26,
     "metadata": {},
     "output_type": "execute_result"
    }
   ],
   "source": [
    "# Using the 'groupby' method we pass in our month column and find the average sales using the mean() function\n",
    "sales.groupby('Month')['Sales($)'].mean()"
   ]
  },
  {
   "cell_type": "code",
   "execution_count": null,
   "id": "121990fc-5d8c-44d8-958a-c93f346ad805",
   "metadata": {},
   "outputs": [],
   "source": []
  },
  {
   "cell_type": "code",
   "execution_count": null,
   "id": "073fae87-e081-4996-ac11-83e5e0f0aadb",
   "metadata": {},
   "outputs": [],
   "source": []
  },
  {
   "cell_type": "markdown",
   "id": "89247d26-1a1e-4949-85f3-5729f9263048",
   "metadata": {},
   "source": [
    "#### Region with the highest sales"
   ]
  },
  {
   "cell_type": "code",
   "execution_count": 53,
   "id": "9ba0d010-de30-4ef5-b707-cce979473454",
   "metadata": {},
   "outputs": [
    {
     "data": {
      "text/plain": [
       "Region\n",
       "North    12767.00\n",
       "South     9385.00\n",
       "East      7078.80\n",
       "West      6048.25\n",
       "Name: Sales($), dtype: float64"
      ]
     },
     "execution_count": 53,
     "metadata": {},
     "output_type": "execute_result"
    }
   ],
   "source": [
    "\n",
    "''' We then sum the sales with the sum() function and group by the 'Region' column.\n",
    "    We use the sort_value() method to sort in descending order by assigning\n",
    "    the boolean value 'False' to its 'ascending' parameter which has a default value \n",
    "    of 'True'.\n",
    "'''\n",
    "sales.groupby('Region')['Sales($)'].sum().sort_values(ascending=False)"
   ]
  },
  {
   "cell_type": "code",
   "execution_count": 57,
   "id": "64732306-3fc9-4652-b175-9bf281850b07",
   "metadata": {},
   "outputs": [
    {
     "data": {
      "text/plain": [
       "<Axes: xlabel='Region'>"
      ]
     },
     "execution_count": 57,
     "metadata": {},
     "output_type": "execute_result"
    },
    {
     "data": {
      "image/png": "[encoded data removed]",
      "text/plain": [
       "<Figure size 640x480 with 1 Axes>"
      ]
     },
     "metadata": {},
     "output_type": "display_data"
    }
   ],
   "source": [
    "# Plotting a bar graph for sales by region\n",
    "region_sales = sales.groupby('Region')['Sales($)'].sum().sort_values(ascending=False)\n",
    "region_sales.plot.bar()"
   ]
  },
  {
   "cell_type": "markdown",
   "id": "59b97f57-2c92-4149-b945-c4f617380f2c",
   "metadata": {},
   "source": [
    "The region with the highest sales is the  North with 12,767.00 in sales"
   ]
  },
  {
   "cell_type": "code",
   "execution_count": null,
   "id": "feb51e87-88c1-4f34-bd91-f9c10ec724c1",
   "metadata": {},
   "outputs": [],
   "source": []
  },
  {
   "cell_type": "markdown",
   "id": "57b5159c-2e86-4863-91fc-6a08be70096d",
   "metadata": {},
   "source": [
    "#### Product category with the lowest impact"
   ]
  },
  {
   "cell_type": "markdown",
   "id": "8db75cc4-55e3-4c19-bd69-b071c65cc93d",
   "metadata": {},
   "source": [
    "Using Total sales by Category"
   ]
  },
  {
   "cell_type": "code",
   "execution_count": 35,
   "id": "4b3f42f3-a388-4238-af8a-c229c9039f31",
   "metadata": {},
   "outputs": [
    {
     "data": {
      "text/plain": [
       "Category\n",
       "Furniture      12767.00\n",
       "Electronics    10585.50\n",
       "Apparel         6048.25\n",
       "Appliances      5878.30\n",
       "Name: Sales($), dtype: float64"
      ]
     },
     "execution_count": 35,
     "metadata": {},
     "output_type": "execute_result"
    }
   ],
   "source": [
    "\n",
    "''' We find the sum of values in the 'Sales($)' column and group by\n",
    "    the 'Category' column.\n",
    "    We then sort it in a descending order\n",
    "'''\n",
    "\n",
    "sales.groupby('Category')['Sales($)'].sum().sort_values(ascending=False)"
   ]
  },
  {
   "cell_type": "code",
   "execution_count": null,
   "id": "1ca53920-6391-439c-8e7e-ed94eac16c6f",
   "metadata": {},
   "outputs": [],
   "source": []
  },
  {
   "cell_type": "markdown",
   "id": "39e5cf20-9e32-4e12-a2f3-5ccab10e2f58",
   "metadata": {},
   "source": [
    "Plotting Total sales by category"
   ]
  },
  {
   "cell_type": "code",
   "execution_count": 71,
   "id": "215e16e0-3b75-4293-a809-c7e8fbd96c06",
   "metadata": {},
   "outputs": [
    {
     "data": {
      "text/plain": [
       "<Axes: title={'center': 'Total Sales by Category'}, ylabel='Sales($)'>"
      ]
     },
     "execution_count": 71,
     "metadata": {},
     "output_type": "execute_result"
    },
    {
     "data": {
      "image/png": "[encoded data removed]",
      "text/plain": [
       "<Figure size 640x480 with 1 Axes>"
      ]
     },
     "metadata": {},
     "output_type": "display_data"
    }
   ],
   "source": [
    "category_sales = sales.groupby('Category')['Sales($)'].sum().sort_values(ascending=False)\n",
    "category_sales.plot(kind = 'pie', title = 'Total Sales by Category', autopct='%1.1f%%')"
   ]
  },
  {
   "cell_type": "markdown",
   "id": "ccb5b4c8-f689-4901-ac4f-fdabc33a4fba",
   "metadata": {},
   "source": []
  },
  {
   "cell_type": "code",
   "execution_count": null,
   "id": "426cb0ab-e81e-400d-955d-90e8a0959aac",
   "metadata": {},
   "outputs": [],
   "source": []
  },
  {
   "cell_type": "markdown",
   "id": "e0b68ea8-45ae-4e6b-b80d-42e810c8ac83",
   "metadata": {},
   "source": [
    "Using Total purchases by Category"
   ]
  },
  {
   "cell_type": "code",
   "execution_count": 55,
   "id": "dd852fbd-6116-4e64-8c95-9b6d6d1f7710",
   "metadata": {},
   "outputs": [
    {
     "data": {
      "text/plain": [
       "Category\n",
       "Apparel        17\n",
       "Appliances     15\n",
       "Electronics    15\n",
       "Furniture      14\n",
       "Name: ProductID, dtype: int64"
      ]
     },
     "execution_count": 55,
     "metadata": {},
     "output_type": "execute_result"
    }
   ],
   "source": [
    "sales.groupby(['Category'])['ProductID'].count().sort_values(ascending = False)"
   ]
  },
  {
   "cell_type": "code",
   "execution_count": null,
   "id": "c147c62f-6bf8-4526-b978-5e2ce175fdc0",
   "metadata": {},
   "outputs": [],
   "source": []
  },
  {
   "cell_type": "code",
   "execution_count": null,
   "id": "b383f352-5f21-4cf9-9e12-0bfc0d598592",
   "metadata": {},
   "outputs": [],
   "source": []
  },
  {
   "cell_type": "markdown",
   "id": "d294c4ad-b864-4326-8d86-336a664ee068",
   "metadata": {},
   "source": [
    "Plotting Total purchases by category"
   ]
  },
  {
   "cell_type": "code",
   "execution_count": 67,
   "id": "138d2729-ceb1-4632-ab46-f62dfcf8139d",
   "metadata": {},
   "outputs": [
    {
     "data": {
      "text/plain": [
       "<Axes: title={'center': 'Total Purchases by Category'}, ylabel='Category'>"
      ]
     },
     "execution_count": 67,
     "metadata": {},
     "output_type": "execute_result"
    },
    {
     "data": {
      "image/png": "[encoded data removed]",
      "text/plain": [
       "<Figure size 640x480 with 1 Axes>"
      ]
     },
     "metadata": {},
     "output_type": "display_data"
    }
   ],
   "source": [
    "category_purchase = sales.groupby(['Category'])['ProductID'].count().sort_values()\n",
    "category_purchase.plot(kind = 'barh', title = 'Total Purchases by Category')"
   ]
  },
  {
   "cell_type": "markdown",
   "id": "90eb275e-655d-4215-90e7-84302b535bc8",
   "metadata": {},
   "source": [
    "Appliances is the category that has contributed least to the total sales(16.7%) though it ties with Electronics in second place for the most purchases (15 purchases)"
   ]
  },
  {
   "cell_type": "code",
   "execution_count": null,
   "id": "e9dd4194-de89-4232-ac88-818d88e9fce2",
   "metadata": {},
   "outputs": [],
   "source": []
  },
  {
   "cell_type": "markdown",
   "id": "5ba3cf99-e234-43eb-85cd-fa9ea4b76167",
   "metadata": {},
   "source": [
    "#### Top Selling products"
   ]
  },
  {
   "cell_type": "code",
   "execution_count": 52,
   "id": "ba4d35fb-7fd5-4196-ae45-8c3b22a8b4ed",
   "metadata": {},
   "outputs": [
    {
     "data": {
      "text/plain": [
       "Category     ProductID\n",
       "Appliances   A6789        6\n",
       "Apparel      A1234        4\n",
       "Electronics  E2345        4\n",
       "Furniture    F5678        4\n",
       "Electronics  E8903        2\n",
       "             E4568        2\n",
       "             E3456        2\n",
       "Apparel      A2345        2\n",
       "Furniture    F1236        2\n",
       "Appliances   A4563        2\n",
       "Name: ProductID, dtype: int64"
      ]
     },
     "execution_count": 52,
     "metadata": {},
     "output_type": "execute_result"
    }
   ],
   "source": [
    "\n",
    "''' To find the top selling products, we use the count() function to find the number\n",
    "    of times a ProductID occurs in the data and get the first 10 most occuring ProductID\n",
    "    using the head() function which we pass in '10' after sorting in descending order\n",
    "    We group by the ProductID and the respective categories.\n",
    "'''\n",
    "\n",
    "sales.groupby(['Category','ProductID'])['ProductID'].count().sort_values(ascending=False).head(10)"
   ]
  },
  {
   "cell_type": "code",
   "execution_count": null,
   "id": "53a3303f-a1ea-491b-bc96-69a031bc81c5",
   "metadata": {},
   "outputs": [],
   "source": []
  },
  {
   "cell_type": "markdown",
   "id": "9f457e70-a55a-4ff1-9324-4449a1e06d7f",
   "metadata": {},
   "source": [
    "Plotting top selling products"
   ]
  },
  {
   "cell_type": "code",
   "execution_count": 66,
   "id": "6243e632-75b6-48de-977d-67ba4fa97564",
   "metadata": {},
   "outputs": [
    {
     "data": {
      "text/plain": [
       "<Axes: title={'center': 'Top Selling Products'}, xlabel='Category,ProductID'>"
      ]
     },
     "execution_count": 66,
     "metadata": {},
     "output_type": "execute_result"
    },
    {
     "data": {
      "image/png": "[encoded data removed]",
      "text/plain": [
       "<Figure size 640x480 with 1 Axes>"
      ]
     },
     "metadata": {},
     "output_type": "display_data"
    }
   ],
   "source": [
    "top_sell = sales.groupby(['Category','ProductID'])['ProductID'].count().sort_values(ascending=False).head(10)\n",
    "top_sell.plot(kind = 'bar', title = 'Top Selling Products')"
   ]
  },
  {
   "cell_type": "code",
   "execution_count": null,
   "id": "d928b450-7103-4125-a7c2-9ded380b6cef",
   "metadata": {},
   "outputs": [],
   "source": []
  },
  {
   "cell_type": "markdown",
   "id": "b1c6c9d8-2aa2-4fb5-a122-c18a777c3de4",
   "metadata": {},
   "source": [
    "#### Recommendations to boost sales in November"
   ]
  },
  {
   "cell_type": "markdown",
   "id": "57a1fa30-d5c2-421a-a92e-4e4567979ebf",
   "metadata": {},
   "source": [
    "1. The company should consider producing more of the most purchased products in November so as to boost sales and also find a way to boost sales for the lowest purchased products.\n",
    "\n",
    "2. The company should find a way to increase sales in the West Region as it ranks last for total revenue generated and also to maintain customer satisfaction in the North as that is the region recording the highest sales for the two months combined(September and October).\n",
    "\n",
    "3. For the lowest purchased products, a discount can be proposed so that it can be purchased more.\n",
    "\n",
    "4. The company should focus on boosting their online presence through their social media handles and websites by engaging customers and also promoting their products with the help of influencers.\n",
    "\n",
    "5. Measures should be put in place to reduce customer waiting time. Employing more shop attendants can help fix this issue. For the shop attendant role, it is advisable to focus on candidates that speak the local dialect of their regions. This can help to speed up purchases and reduce waiting time.\n",
    "\n",
    "6. Though the Furniture category has recorded the highest revenue for the two months combined,it ranks last for most purchases. Management should maybe re-evaluate the prices for products under the Furniture category as the analysis raises concern that maybe the products under the Furniture category might be too expensive. Few purchases are being made but for huge sums of money."
   ]
  },
  {
   "cell_type": "code",
   "execution_count": null,
   "id": "1bb66605-11fd-407b-b95a-9a119eaff961",
   "metadata": {},
   "outputs": [],
   "source": []
  }
 ],
 "metadata": {
  "kernelspec": {
   "display_name": "Python 3 (ipykernel)",
   "language": "python",
   "name": "python3"
  },
  "language_info": {
   "codemirror_mode": {
    "name": "ipython",
    "version": 3
   },
   "file_extension": ".py",
   "mimetype": "text/x-python",
   "name": "python",
   "nbconvert_exporter": "python",
   "pygments_lexer": "ipython3",
   "version": "3.12.1"
  }
 },
 "nbformat": 4,
 "nbformat_minor": 5
}
